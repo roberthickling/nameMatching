{
 "cells": [
  {
   "cell_type": "code",
   "execution_count": 1,
   "metadata": {
    "collapsed": false
   },
   "outputs": [],
   "source": [
    "# Python code to match additional customer lists to a master list\n",
    "# need fuzzywuzzy installed\n",
    "import pandas\n",
    "import numpy\n",
    "import sys"
   ]
  },
  {
   "cell_type": "code",
   "execution_count": 3,
   "metadata": {
    "collapsed": false
   },
   "outputs": [
    {
     "name": "stdout",
     "output_type": "stream",
     "text": [
      "['Customer ID' 'Customer Name' 'Root Customer ID' 'Root Customer Name']\n",
      "['Customer ID' 'Customer Name' 'Root Customer ID' 'Root Customer Name']\n"
     ]
    }
   ],
   "source": [
    "# basic input of csvs and print column names\n",
    "# target is the file you want to match to your master\n",
    "# target file can have multiple repeated customers but the master assumes all customers are unique\n",
    "filename_target = '~/Documents/Projects/16_01_18_Graincorp/ParentInfo/SandL_final_matching.csv'\n",
    "df_target = pandas.read_csv(filename_target, encoding='latin-1')\n",
    "filename_master = '~/Documents/Projects/16_01_18_Graincorp/ParentInfo/GRAINCORP_MARKETINGOILS PARENT_CHECK.csv'\n",
    "df_master = pandas.read_csv(filename_master, encoding='latin-1')\n",
    "\n",
    "# filter out the non needed columns\n",
    "df_master_filt = df_master.loc[:,('Customer ID', 'Customer Name', 'Root Customer ID','Root Customer Name')]\n",
    "df_target_filt = df_target.loc[:,('Customer ID', 'Customer Name', 'Root Customer ID','Root Customer Name')]\n",
    "\n",
    "# check of the output column names\n",
    "print(df_target_filt.columns.values)\n",
    "print(df_master_filt.columns.values)"
   ]
  },
  {
   "cell_type": "code",
   "execution_count": 4,
   "metadata": {
    "collapsed": false
   },
   "outputs": [
    {
     "name": "stdout",
     "output_type": "stream",
     "text": [
      "   Customer ID                   Customer Name  Root Customer ID  \\\n",
      "0        47755         3K Transport & Trading              47755   \n",
      "1         1951                   A & B GRAINS               1951   \n",
      "2     13348663                     A & E Moon           13348663   \n",
      "3     13345825  A & G Hunt Families Trust T/A           13345825   \n",
      "4     13295450     AA Company Pty Ltd -Lynora           13295450   \n",
      "\n",
      "          Root Customer Name                  Orig Cust Name  \n",
      "0             3k  & trading          3K Transport & Trading   \n",
      "1              a & b grains                    A & B GRAINS   \n",
      "2                a & e moon                      A & E Moon   \n",
      "3  a & g hunt families  t/a   A & G Hunt Families Trust T/A   \n",
      "4             aa    -lynora      AA Company Pty Ltd -Lynora   \n",
      "    Customer ID                                  Customer Name  \\\n",
      "0  GSAUS_100012   AUSTRALIAN COUNTRY CHOICE PRODUCTION PTY LTD   \n",
      "1   GSNZ_201420                                     Korston ,M   \n",
      "2          7013                          *DAVIS TRADING PETONE   \n",
      "3          7035                          *DAVIS TRADING PETONE   \n",
      "4          8834                          *DAVIS TRADING PETONE   \n",
      "\n",
      "  Root Customer ID              Root Customer Name  \\\n",
      "0     GSAUS_100012   n country choice production     \n",
      "1      GSNZ_201420                      korston ,m   \n",
      "2             7013           *davis trading petone   \n",
      "3             7013           *davis trading petone   \n",
      "4             7013           *davis trading petone   \n",
      "\n",
      "                                  Orig Cust Name  \n",
      "0   AUSTRALIAN COUNTRY CHOICE PRODUCTION PTY LTD  \n",
      "1                                     Korston ,M  \n",
      "2                          *DAVIS TRADING PETONE  \n",
      "3                          *DAVIS TRADING PETONE  \n",
      "4                          *DAVIS TRADING PETONE  \n",
      "0\n",
      "100\n",
      "200\n",
      "300\n",
      "400\n",
      "500\n",
      "600\n",
      "700\n",
      "800\n",
      "900\n",
      "1000\n",
      "1100\n",
      "1200\n",
      "1300\n",
      "1400\n",
      "1500\n",
      "1600\n",
      "1700\n",
      "1800\n",
      "1900\n",
      "2000\n",
      "2100\n",
      "2200\n"
     ]
    },
    {
     "name": "stderr",
     "output_type": "stream",
     "text": [
      "/Library/Frameworks/Python.framework/Versions/3.5/lib/python3.5/site-packages/fuzzywuzzy/fuzz.py:33: UserWarning: Using slow pure-python SequenceMatcher. Install python-Levenshtein to remove this warning\n",
      "  warnings.warn('Using slow pure-python SequenceMatcher. Install python-Levenshtein to remove this warning')\n"
     ]
    }
   ],
   "source": [
    "# This tile does the matching. The process works as follows.\n",
    "# 1. Remove all the generic words that may match in several customers name such as 'company'\n",
    "# 2. Iterate over the target customer list and for each customer iterate over the master customer list.\n",
    "# 3. Record the best matches based on a score produced by fuzzywuzzy and output it into a dataframe.\n",
    "# The best matches fields are only filled if the match is higher than a certain score\n",
    "from fuzzywuzzy import fuzz\n",
    "# build matched dataframe\n",
    "df_matched = pandas.DataFrame(columns=['Orig Cust Name','Orig Cust Name2','Customer Name',\\\n",
    "                                        'Customer Name2','Customer ID', 'Customer ID 2', \\\n",
    "                                       'Matched ID', 'Matched Name', 'Score', 'Daughter Cust', 'Daughter Cust ID'])\n",
    "\n",
    "# remove upper case and generic words\n",
    "# generic words have to picked manually\n",
    "# set the original names before the replaces for reference later\n",
    "df_target_filt['Orig Cust Name'] = df_target_filt['Root Customer Name']\n",
    "df_target_filt['Root Customer Name'] = df_target_filt['Root Customer Name'].str.lower()\n",
    "df_target_filt['Root Customer Name'] = df_target_filt['Root Customer Name'].str.replace('ltd', '')\n",
    "df_target_filt['Root Customer Name'] = df_target_filt['Root Customer Name'].str.replace('pty', '')\n",
    "df_target_filt['Root Customer Name'] = df_target_filt['Root Customer Name'].str.replace('australia', '')\n",
    "df_target_filt['Root Customer Name'] = df_target_filt['Root Customer Name'].str.replace('limited', '')\n",
    "df_target_filt['Root Customer Name'] = df_target_filt['Root Customer Name'].str.replace('company', '')\n",
    "df_target_filt['Root Customer Name'] = df_target_filt['Root Customer Name'].str.replace('partnership', '')\n",
    "df_target_filt['Root Customer Name'] = df_target_filt['Root Customer Name'].str.replace('enterprises', '')\n",
    "df_target_filt['Root Customer Name'] = df_target_filt['Root Customer Name'].str.replace('solutions', '')\n",
    "df_target_filt['Root Customer Name'] = df_target_filt['Root Customer Name'].str.replace('trust', '')\n",
    "df_target_filt['Root Customer Name'] = df_target_filt['Root Customer Name'].str.replace('holdings', '')\n",
    "df_target_filt['Root Customer Name'] = df_target_filt['Root Customer Name'].str.replace('dairies', '')\n",
    "df_target_filt['Root Customer Name'] = df_target_filt['Root Customer Name'].str.replace('australasia', '')\n",
    "df_target_filt['Root Customer Name'] = df_target_filt['Root Customer Name'].str.replace('rural', '')\n",
    "df_target_filt['Root Customer Name'] = df_target_filt['Root Customer Name'].str.replace('supplies', '')\n",
    "df_target_filt['Root Customer Name'] = df_target_filt['Root Customer Name'].str.replace('tavern', '')\n",
    "df_target_filt['Root Customer Name'] = df_target_filt['Root Customer Name'].str.replace('hotel', '')\n",
    "df_target_filt['Root Customer Name'] = df_target_filt['Root Customer Name'].str.replace('dairy', '')\n",
    "df_target_filt['Root Customer Name'] = df_target_filt['Root Customer Name'].str.replace('products', '')\n",
    "df_target_filt['Root Customer Name'] = df_target_filt['Root Customer Name'].str.replace('transport', '')\n",
    "df_target_filt['Root Customer Name'] = df_target_filt['Root Customer Name'].str.replace('national', '')\n",
    "df_target_filt['Root Customer Name'] = df_target_filt['Root Customer Name'].str.replace('new zealand', '')\n",
    "\n",
    "df_master_filt['Orig Cust Name'] = df_master_filt['Root Customer Name']\n",
    "df_master_filt['Root Customer Name'] = df_master_filt['Root Customer Name'].str.lower()\n",
    "df_master_filt['Root Customer Name'] = df_master_filt['Root Customer Name'].str.replace('ltd', '')\n",
    "df_master_filt['Root Customer Name'] = df_master_filt['Root Customer Name'].str.replace('pty', '')\n",
    "df_master_filt['Root Customer Name'] = df_master_filt['Root Customer Name'].str.replace('australia', '')\n",
    "df_master_filt['Root Customer Name'] = df_master_filt['Root Customer Name'].str.replace('limited', '')\n",
    "df_master_filt['Root Customer Name'] = df_master_filt['Root Customer Name'].str.replace('company', '')\n",
    "df_master_filt['Root Customer Name'] = df_master_filt['Root Customer Name'].str.replace('partnership', '')\n",
    "df_master_filt['Root Customer Name'] = df_master_filt['Root Customer Name'].str.replace('enterprises', '')\n",
    "df_master_filt['Root Customer Name'] = df_master_filt['Root Customer Name'].str.replace('solutions', '')\n",
    "df_master_filt['Root Customer Name'] = df_master_filt['Root Customer Name'].str.replace('trust', '')\n",
    "df_master_filt['Root Customer Name'] = df_master_filt['Root Customer Name'].str.replace('holdings', '')\n",
    "df_master_filt['Root Customer Name'] = df_master_filt['Root Customer Name'].str.replace('dairies', '')\n",
    "df_master_filt['Root Customer Name'] = df_master_filt['Root Customer Name'].str.replace('australasia', '')\n",
    "df_master_filt['Root Customer Name'] = df_master_filt['Root Customer Name'].str.replace('rural', '')\n",
    "df_master_filt['Root Customer Name'] = df_master_filt['Root Customer Name'].str.replace('supplies', '')\n",
    "df_master_filt['Root Customer Name'] = df_master_filt['Root Customer Name'].str.replace('tavern', '')\n",
    "df_master_filt['Root Customer Name'] = df_master_filt['Root Customer Name'].str.replace('hotel', '')\n",
    "df_master_filt['Root Customer Name'] = df_master_filt['Root Customer Name'].str.replace('dairy', '')\n",
    "df_master_filt['Root Customer Name'] = df_master_filt['Root Customer Name'].str.replace('products', '')\n",
    "df_master_filt['Root Customer Name'] = df_master_filt['Root Customer Name'].str.replace('transport', '')\n",
    "df_master_filt['Root Customer Name'] = df_master_filt['Root Customer Name'].str.replace('national', '')\n",
    "df_master_filt['Root Customer Name'] = df_master_filt['Root Customer Name'].str.replace('new zealand', '')\n",
    "\n",
    "# use this to check that the original customer names are not effected by the replace above\n",
    "print(df_target_filt.head())\n",
    "print(df_master_filt.head())\n",
    "\n",
    "# iterate over the list\n",
    "# minimum score for automatic matching set here\n",
    "matchingLimit = 77\n",
    "bestScore = 0\n",
    "for i, row in df_target_filt.iterrows():\n",
    "    # for each element in the list iterate over the copy to find matches\n",
    "    for j, row2 in df_master_filt.iterrows():\n",
    "        \n",
    "        customerName = row['Root Customer Name']\n",
    "        customerName2 = row2['Root Customer Name']\n",
    "        # have to set the best match as the first match\n",
    "        if j==0:\n",
    "            bestMatchedName = customerName2\n",
    "            bestMatchedId = row2['Root Customer ID']\n",
    "            bestScore = fuzz.token_sort_ratio(customerName2, customerName)\n",
    "            bestOrigCust = row2['Orig Cust Name']\n",
    "        # update the match when the score is improved\n",
    "        elif fuzz.token_sort_ratio(customerName2, customerName) > bestScore and \\\n",
    "             fuzz.token_sort_ratio(row['Root Customer ID'], row2['Root Customer ID']) !=100:\n",
    "            bestScore = fuzz.token_sort_ratio(customerName2, customerName)\n",
    "            bestMatchedName = customerName2\n",
    "            bestMatchedId = row2['Root Customer ID']\n",
    "            bestOrigCust = row2['Orig Cust Name']\n",
    "            \n",
    "    # This writes the match to the matching fields if the score is sufficient\n",
    "    if bestScore > matchingLimit:\n",
    "        matchedID = bestMatchedId\n",
    "        matchedName = bestOrigCust\n",
    "    else:\n",
    "        matchedID = row['Root Customer ID']\n",
    "        matchedName = row['Orig Cust Name']\n",
    "    if i%100==0: print(i) # for progress update\n",
    "    #if i>100: break # can be used in testing for just a few customer names\n",
    "\n",
    "    # fill the matching dataframe\n",
    "    df_matched.loc[i] = (row['Orig Cust Name'], bestOrigCust, customerName, bestMatchedName, \\\n",
    "                         row['Root Customer ID'], bestMatchedId, matchedID, matchedName, \\\n",
    "                         bestScore, row['Customer Name'], row['Customer ID'])\n",
    "\n",
    "\n",
    "df_matched.to_csv(\"TEST_customer_matching.csv\")\n",
    "\n",
    "# this outputs a csv file that you can then manually check. You can 'correct' matches by\n",
    "# putting the Matched id column as the original Customer Id if it is an incorrect match.\n",
    "# Do the same with the matched and customer names"
   ]
  },
  {
   "cell_type": "code",
   "execution_count": 14,
   "metadata": {
    "collapsed": false
   },
   "outputs": [
    {
     "name": "stdout",
     "output_type": "stream",
     "text": [
      "['Customer ID' 'Customer Name' 'Root Customer ID' 'Root Customer Name']\n"
     ]
    }
   ],
   "source": [
    "# do some manual matching and then re enter the csv\n",
    "# have to reinput the adjusted file into a dataframe\n",
    "filename_matched = '~/Documents/Projects/16_01_18_Graincorp/ParentInfo/TEST_customer_matching.csv'\n",
    "df_manual_match = pandas.read_csv(filename_matched, encoding='latin-1')\n",
    "\n",
    "# do some filtering and renaming of columns\n",
    "df_man_match_filter1 = df_manual_match.loc[:,('Daughter Cust ID', 'Daughter Cust', 'Matched ID', 'Matched Name')]\n",
    "df_man_match_filter1.rename(columns={'Daughter Cust ID':'Customer ID', 'Daughter Cust':'Customer Name', \\\n",
    "                                     'Matched ID':'Root Customer ID', 'Matched Name':'Root Customer Name'}, inplace=True)\n",
    "df_man_match_filter1 = df_man_match_filter1[['Customer ID', 'Customer Name', 'Root Customer ID', 'Root Customer Name']]\n",
    "print(df_man_match_filter1.columns.values)\n",
    "\n",
    "# Option to output the file for further checking \n",
    "# df_man_match_filter1.to_csv(\"TEST_customer_manual_matching.csv\")"
   ]
  },
  {
   "cell_type": "code",
   "execution_count": 18,
   "metadata": {
    "collapsed": false
   },
   "outputs": [
    {
     "name": "stdout",
     "output_type": "stream",
     "text": [
      "Matched df length: 2297 Original df length: 2552\n",
      "Compiled df length: 4849\n"
     ]
    }
   ],
   "source": [
    "# once all of the customers in the target file are matched then need to add the original master file\n",
    "df_orig_master = pandas.read_csv(filename_master, encoding='latin-1')\n",
    "\n",
    "df_orig_master_filtered = df_orig_master.loc[:,('Customer ID', 'Customer Name', 'Root Customer ID', 'Root Customer Name')]\n",
    "print('Matched df length: ' + str(len(df_man_match_filter1)), \\\n",
    "      'Original df length: ' + str(len(df_orig_master_filtered)))\n",
    "\n",
    "# append dfs\n",
    "df_combined = df_man_match_filter1.append(df_orig_master_filtered, ignore_index=True)\n",
    "df_combined.to_csv(\"TEST_ALLBUS_parent_into.csv\")\n",
    "print('Compiled df length: '+str(len(df_combined)))"
   ]
  },
  {
   "cell_type": "code",
   "execution_count": null,
   "metadata": {
    "collapsed": true
   },
   "outputs": [],
   "source": []
  }
 ],
 "metadata": {
  "kernelspec": {
   "display_name": "Python 3",
   "language": "python",
   "name": "python3"
  },
  "language_info": {
   "codemirror_mode": {
    "name": "ipython",
    "version": 3
   },
   "file_extension": ".py",
   "mimetype": "text/x-python",
   "name": "python",
   "nbconvert_exporter": "python",
   "pygments_lexer": "ipython3",
   "version": "3.5.1"
  }
 },
 "nbformat": 4,
 "nbformat_minor": 0
}
