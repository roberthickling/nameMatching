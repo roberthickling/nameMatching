{
 "cells": [
  {
   "cell_type": "code",
   "execution_count": 1,
   "metadata": {
    "collapsed": false
   },
   "outputs": [],
   "source": [
    "# Python code that matches customer names within a list\n",
    "# need fuzzywuzzy installed\n",
    "import pandas\n",
    "import numpy\n",
    "import sys"
   ]
  },
  {
   "cell_type": "code",
   "execution_count": 2,
   "metadata": {
    "collapsed": false
   },
   "outputs": [
    {
     "name": "stdout",
     "output_type": "stream",
     "text": [
      "['Root Customer Name' 'Root Customer ID']\n"
     ]
    }
   ],
   "source": [
    "# basic input of csv and print column names\n",
    "filename = '~/Documents/Projects/16_01_18_largeagribusiness/ParentInfo/rootMatching_oils_SAP.csv'\n",
    "df = pandas.read_csv(filename, encoding='latin-1')\n",
    "print(df.columns.values)"
   ]
  },
  {
   "cell_type": "code",
   "execution_count": 3,
   "metadata": {
    "collapsed": false
   },
   "outputs": [
    {
     "name": "stdout",
     "output_type": "stream",
     "text": [
      "            Root Customer Name  Root Customer ID  \\\n",
      "0             moore wilson co               1036   \n",
      "1    baking technical advice              103788   \n",
      "2             anchor manawatu             106269   \n",
      "3  country foods gisborne 1997             10789   \n",
      "4                   commercial                11   \n",
      "\n",
      "                    Orig Cust Name  \n",
      "0              MOORE WILSON CO LTD  \n",
      "1  BAKING TECHNICAL ADVICE PTY LTD  \n",
      "2          ANCHOR MANAWATU LIMITED  \n",
      "3      COUNTRY FOODS GISBORNE 1997  \n",
      "4              NATIONAL COMMERCIAL  \n",
      "0\n",
      "100\n",
      "200\n"
     ]
    }
   ],
   "source": [
    "# This tile does the matching. The process works as follows.\n",
    "# 1. Remove all the generic words that may match in several customers name such as 'company'\n",
    "# 2. Iterate over the customer list and for each customer iterate over the same customer list.\n",
    "# 3. Record the best matches based on a score produced by fuzzywuzzy and output it into a dataframe.\n",
    "# The best matches fields are only filled if the match is higher than a certain score\n",
    "from fuzzywuzzy import fuzz\n",
    "# build matched dataframe\n",
    "df_matched = pandas.DataFrame(columns=['Orig Cust Name','Orig Cust Name2','Customer Name',\\\n",
    "                                        'Customer Name2','Customer ID', 'Customer ID 2', 'Matched ID', 'Score'])\n",
    "# to improve performance of match remove generic words and remove upper case\n",
    "# generic words have to picked manually\n",
    "df['Orig Cust Name'] = df['Root Customer Name']\n",
    "df['Root Customer Name'] = df['Root Customer Name'].str.lower()\n",
    "df['Root Customer Name'] = df['Root Customer Name'].str.replace('family trust', '')\n",
    "df['Root Customer Name'] = df['Root Customer Name'].str.replace('farms', '')\n",
    "df['Root Customer Name'] = df['Root Customer Name'].str.replace('farm', '')\n",
    "df['Root Customer Name'] = df['Root Customer Name'].str.replace('ltd', '')\n",
    "df['Root Customer Name'] = df['Root Customer Name'].str.replace('pty', '')\n",
    "df['Root Customer Name'] = df['Root Customer Name'].str.replace('australia', '')\n",
    "df['Root Customer Name'] = df['Root Customer Name'].str.replace('new zealand', '')\n",
    "df['Root Customer Name'] = df['Root Customer Name'].str.replace('limited', '')\n",
    "df['Root Customer Name'] = df['Root Customer Name'].str.replace('stockfeed', '')\n",
    "df['Root Customer Name'] = df['Root Customer Name'].str.replace('pastoral', '')\n",
    "df['Root Customer Name'] = df['Root Customer Name'].str.replace('company', '')\n",
    "df['Root Customer Name'] = df['Root Customer Name'].str.replace('partnership', '')\n",
    "df['Root Customer Name'] = df['Root Customer Name'].str.replace('enterprises', '')\n",
    "df['Root Customer Name'] = df['Root Customer Name'].str.replace('solutions', '')\n",
    "df['Root Customer Name'] = df['Root Customer Name'].str.replace('trust', '')\n",
    "df['Root Customer Name'] = df['Root Customer Name'].str.replace('holdings', '')\n",
    "df['Root Customer Name'] = df['Root Customer Name'].str.replace('dairies', '')\n",
    "df['Root Customer Name'] = df['Root Customer Name'].str.replace('australasia', '')\n",
    "df['Root Customer Name'] = df['Root Customer Name'].str.replace('rural', '')\n",
    "df['Root Customer Name'] = df['Root Customer Name'].str.replace('supplies', '')\n",
    "df['Root Customer Name'] = df['Root Customer Name'].str.replace('tavern', '')\n",
    "df['Root Customer Name'] = df['Root Customer Name'].str.replace('hotel', '')\n",
    "df['Root Customer Name'] = df['Root Customer Name'].str.replace('dairy', '')\n",
    "df['Root Customer Name'] = df['Root Customer Name'].str.replace('products', '')\n",
    "df['Root Customer Name'] = df['Root Customer Name'].str.replace('transport', '')\n",
    "df['Root Customer Name'] = df['Root Customer Name'].str.replace('national', '')\n",
    "\n",
    "print(df.head())\n",
    "# create copy of the list for matching\n",
    "df2 = df.copy()\n",
    "\n",
    "# iterate over the list\n",
    "matchingLimit = 77\n",
    "bestScore = 0\n",
    "for i, row in df.iterrows():\n",
    "    # for each element in the list iterate over the copy to find matches\n",
    "    for j, row2 in df2.iterrows():\n",
    "        \n",
    "        customerName = row['Root Customer Name']\n",
    "        customerName2 = row2['Root Customer Name']\n",
    "        # have to set the best match as the first match, making sure to avoid matching to itself\n",
    "        if j==0 and fuzz.token_sort_ratio(row['Root Customer ID'], row2['Root Customer ID']) != 100:\n",
    "            bestMatchedName = customerName2\n",
    "            bestMatchedId = row2['Root Customer ID']\n",
    "            bestScore = fuzz.token_sort_ratio(customerName2, customerName)\n",
    "            bestOrigCust = row2['Orig Cust Name']\n",
    "        # for the first customer in the list you need an alternative first match as the standard\n",
    "        # first match is itself\n",
    "        elif j==1 and fuzz.token_sort_ratio(row['Root Customer ID'], row2['Root Customer ID']) != 100:\n",
    "            bestMatchedName = customerName2\n",
    "            bestMatchedId = row2['Root Customer ID']\n",
    "            bestScore = fuzz.token_sort_ratio(customerName2, customerName)   \n",
    "            bestOrigCust = row2['Orig Cust Name']\n",
    "        # update the match when the score is improved\n",
    "        elif fuzz.token_sort_ratio(customerName2, customerName) > bestScore and \\\n",
    "             fuzz.token_sort_ratio(row['Root Customer ID'], row2['Root Customer ID']) !=100:\n",
    "            bestScore = fuzz.token_sort_ratio(customerName2, customerName)\n",
    "            bestMatchedName = customerName2\n",
    "            bestMatchedId = row2['Root Customer ID']\n",
    "            bestOrigCust = row2['Orig Cust Name']\n",
    "            \n",
    "    # This writes the match to the matching fields if the score is sufficient\n",
    "    if bestScore > matchingLimit:\n",
    "        matchedID = bestMatchedId\n",
    "    else:\n",
    "        matchedID = row['Root Customer ID']\n",
    "    if i%100==0: print(i) # for progress update\n",
    "    #if i>100: break # can be used in testing for just a few customer names\n",
    "\n",
    "    # fill the matching dataframe\n",
    "    df_matched.loc[i] = (row['Orig Cust Name'], bestOrigCust, customerName, bestMatchedName, \\\n",
    "                         row['Root Customer ID'], bestMatchedId, matchedID, bestScore)\n",
    "\n",
    "    \n",
    "\n",
    "df_matched.to_csv(\"TEST_customer_matching.csv\")\n",
    "\n",
    "# this outputs a csv file that you can then manually check. You can 'correct' matches by\n",
    "# putting the Matched id column as the original Customer Id if it is an incorrect match.\n",
    "# Do the same with the matched and customer names"
   ]
  },
  {
   "cell_type": "code",
   "execution_count": 8,
   "metadata": {
    "collapsed": false
   },
   "outputs": [
    {
     "name": "stdout",
     "output_type": "stream",
     "text": [
      "['Unnamed: 0' 'Orig Cust Name' 'Orig Cust Name2' 'Customer Name'\n",
      " 'Customer Name2' 'Customer ID' 'Customer ID 2' 'Matched ID' 'Score'\n",
      " 'Root Customer ID' 'Root Customer Name']\n",
      "0\n",
      "100\n",
      "200\n"
     ]
    },
    {
     "name": "stderr",
     "output_type": "stream",
     "text": [
      "/Library/Frameworks/Python.framework/Versions/3.5/lib/python3.5/site-packages/pandas/core/indexing.py:117: SettingWithCopyWarning: \n",
      "A value is trying to be set on a copy of a slice from a DataFrame\n",
      "\n",
      "See the caveats in the documentation: http://pandas.pydata.org/pandas-docs/stable/indexing.html#indexing-view-versus-copy\n",
      "  self._setitem_with_indexer(indexer, value)\n"
     ]
    }
   ],
   "source": [
    "# do some manual matching and then re enter the csv\n",
    "# once the matching has been done there will be pairs of matching customers for example:\n",
    "# cust No: 101, root No:102\n",
    "# cust No: 102, root No:101\n",
    "# these need to be matched to one root No (both either 101 or 102 in the example)\n",
    "# below the number is decided by picking either the shortest customer name or sorted by customer ID\n",
    "filename_matched = '~/Documents/Projects/16_01_18_/ParentInfo/TEST_customer_matching.csv'\n",
    "df_manual_match = pandas.read_csv(filename_matched, encoding='latin-1')\n",
    "\n",
    "# create new fields to store the matching\n",
    "df_manual_match['Root Customer ID'] = ''\n",
    "df_manual_match['Root Customer Name'] = ''\n",
    "print(df_manual_match.columns.values)\n",
    "\n",
    "for i, row in df_manual_match.iterrows():\n",
    "    if row['Customer ID'] != row['Matched ID']:\n",
    "        \n",
    "        # test which has the smallest customer name\n",
    "        cust1_len = len(row['Orig Cust Name'])\n",
    "        cust2_len = len(row['Orig Cust Name2'])\n",
    "        if cust1_len < cust2_len:\n",
    "            df_manual_match['Root Customer ID'].loc[i] = row['Customer ID']\n",
    "            df_manual_match['Root Customer Name'].loc[i] = row['Orig Cust Name']\n",
    "        # if the lengths are equal sort ID either by number or alphabetically\n",
    "        elif cust1_len == cust2_len:\n",
    "            custlist = {int(row['Customer ID']), int(row['Matched ID'])}\n",
    "            alpha_cust = sorted(custlist)[0]\n",
    "            #print(custlist, alpha_cust, cust1_len, cust2_len, row['Score'])\n",
    "            if row['Customer ID'] == alpha_cust:\n",
    "                df_manual_match['Root Customer ID'].loc[i] = row['Customer ID']\n",
    "                df_manual_match['Root Customer Name'].loc[i] = row['Orig Cust Name']\n",
    "            else:\n",
    "                df_manual_match['Root Customer ID'].loc[i] = row['Matched ID']\n",
    "                df_manual_match['Root Customer Name'].loc[i] = row['Orig Cust Name']\n",
    "        else:\n",
    "            df_manual_match['Root Customer ID'].loc[i] = row['Matched ID']\n",
    "            df_manual_match['Root Customer Name'].loc[i] = row['Orig Cust Name']\n",
    "    else:\n",
    "        df_manual_match['Root Customer ID'].loc[i] = row['Matched ID']\n",
    "        df_manual_match['Root Customer Name'].loc[i] = row['Orig Cust Name']\n",
    "        \n",
    "        # should be doing the setting like this i think\n",
    "        # df_manual_match.ix[i, 'Root Customer Name'] = row['Orig Cust Name']\n",
    "    if i%100==0: print(i) # for progress update\n",
    "    #if i>100: break\n",
    "        \n",
    "# do some filtering and renaming and output to csv\n",
    "df_manual_match = df_manual_match[['Customer ID', 'Orig Cust Name', 'Root Customer ID', 'Root Customer Name']]\n",
    "df_manual_match.rename(columns={'Orig Cust Name':'Customer Name'}, inplace=True)\n",
    "df_manual_match.to_csv(\"TEST_final_matching.csv\")\n",
    "# check the csv output for mistakes"
   ]
  },
  {
   "cell_type": "code",
   "execution_count": null,
   "metadata": {
    "collapsed": true
   },
   "outputs": [],
   "source": []
  }
 ],
 "metadata": {
  "kernelspec": {
   "display_name": "Python 3",
   "language": "python",
   "name": "python3"
  },
  "language_info": {
   "codemirror_mode": {
    "name": "ipython",
    "version": 3
   },
   "file_extension": ".py",
   "mimetype": "text/x-python",
   "name": "python",
   "nbconvert_exporter": "python",
   "pygments_lexer": "ipython3",
   "version": "3.5.1"
  }
 },
 "nbformat": 4,
 "nbformat_minor": 0
}
